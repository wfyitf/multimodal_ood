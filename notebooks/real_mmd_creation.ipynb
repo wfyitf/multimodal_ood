{
 "cells": [
  {
   "cell_type": "code",
   "execution_count": 1,
   "metadata": {},
   "outputs": [],
   "source": [
    "import pandas as pd\n",
    "import numpy as np\n",
    "import matplotlib.pyplot as plt\n",
    "import seaborn as sns\n",
    "import os\n",
    "import json \n",
    "import sys \n",
    "\n",
    "sys.path.insert(0, os.path.dirname(os.getcwd()))"
   ]
  },
  {
   "cell_type": "code",
   "execution_count": 3,
   "metadata": {},
   "outputs": [],
   "source": [
    "COCO2014_VAL_DIR = 'dataset/coco/val2014'\n",
    "COCO2014_TRAIN_DIR = 'dataset/coco/train2014'\n",
    "COCO2014_ANNOTATIONS_DIR = 'dataset/coco/coo_annotations'\n",
    "MMD_VAL_DIR = 'dataset/mmd/dev'\n",
    "MMD_TRAIN_DIR = 'dataset/mmd/train'\n",
    "MMD_TEST_DIR = 'dataset/mmd/test'\n",
    "TARGET_DIR = 'dataset/mmd/sample'"
   ]
  },
  {
   "cell_type": "code",
   "execution_count": 15,
   "metadata": {},
   "outputs": [],
   "source": [
    "val_json = pd.read_json(MMD_VAL_DIR + '/dev.json')\n",
    "train_json = pd.read_json(MMD_TRAIN_DIR + '/train.json')\n",
    "test_json = pd.read_json(MMD_TEST_DIR + '/test.json')"
   ]
  },
  {
   "cell_type": "code",
   "execution_count": 17,
   "metadata": {},
   "outputs": [],
   "source": [
    "total_json = pd.concat([val_json, train_json, test_json], ignore_index=True)"
   ]
  },
  {
   "cell_type": "code",
   "execution_count": 25,
   "metadata": {},
   "outputs": [],
   "source": [
    "coco_mmd = total_json[total_json['img_dataset'] == 'coco'].copy()"
   ]
  },
  {
   "cell_type": "code",
   "execution_count": 27,
   "metadata": {},
   "outputs": [
    {
     "name": "stderr",
     "output_type": "stream",
     "text": [
      "/var/folders/bg/vfgr38f17p56ptp0zlbg71sh0000gn/T/ipykernel_29220/4046461801.py:10: SettingWithCopyWarning: \n",
      "A value is trying to be set on a copy of a slice from a DataFrame.\n",
      "Try using .loc[row_indexer,col_indexer] = value instead\n",
      "\n",
      "See the caveats in the documentation: https://pandas.pydata.org/pandas-docs/stable/user_guide/indexing.html#returning-a-view-versus-a-copy\n",
      "  coco_mmd['set_source'] = coco_mmd['img_file'].apply(extract_pattern)\n"
     ]
    }
   ],
   "source": [
    "import re\n",
    "\n",
    "def extract_pattern(s):\n",
    "    match = re.search(r'COCO_(.*?)_\\d+', s)\n",
    "    if match:\n",
    "        return match.group(1)  # 返回匹配的第一个括号中的内容\n",
    "    return None  # 如果没有匹配，返回None\n",
    "\n",
    "\n",
    "coco_mmd['set_source'] = coco_mmd['img_file'].apply(extract_pattern)"
   ]
  },
  {
   "cell_type": "code",
   "execution_count": 31,
   "metadata": {},
   "outputs": [],
   "source": [
    "coco_mmd = coco_mmd.drop(columns=['replaced_idx', 'img_idx'])"
   ]
  },
  {
   "cell_type": "code",
   "execution_count": 33,
   "metadata": {},
   "outputs": [],
   "source": [
    "def create_complex_index(s):\n",
    "    parts = s.split('_')\n",
    "    if 'train' in parts[1]:\n",
    "        type_code = 1 \n",
    "    elif 'val' in parts[1]:\n",
    "        type_code = 2 \n",
    "    else:\n",
    "        type_code = 3 \n",
    "    id_str = parts[2][:-4] \n",
    "    index = int(f\"{type_code}{id_str}\")\n",
    "    return index\n",
    "\n",
    "coco_mmd['image_id'] = coco_mmd['img_file'].apply(create_complex_index)\n"
   ]
  },
  {
   "cell_type": "code",
   "execution_count": 38,
   "metadata": {},
   "outputs": [],
   "source": [
    "import os\n",
    "import shutil"
   ]
  },
  {
   "cell_type": "code",
   "execution_count": 39,
   "metadata": {},
   "outputs": [],
   "source": [
    "def process_and_copy_image(row):\n",
    "    if row['set_source'] == 'val2014':\n",
    "        source_dir = COCO2014_VAL_DIR\n",
    "    elif row['set_source'] == 'train2014':\n",
    "        source_dir = COCO2014_TRAIN_DIR\n",
    "    else:\n",
    "        raise ValueError(\"Unknown set_source\")\n",
    "    \n",
    "    new_index = row['image_id']\n",
    "    new_filename = f\"{new_index}.jpg\"\n",
    "    \n",
    "    source_path = os.path.join(source_dir, row['img_file'])\n",
    "    target_path = os.path.join(TARGET_DIR, new_filename)\n",
    "    \n",
    "    shutil.copy(source_path, target_path)"
   ]
  },
  {
   "cell_type": "code",
   "execution_count": 68,
   "metadata": {},
   "outputs": [],
   "source": [
    "import json \n",
    "\n",
    "\n",
    "coco_label_val = json.load(open(COCO2014_ANNOTATIONS_DIR + '/instances_val2014.json'))\n",
    "coco_label_train = json.load(open(COCO2014_ANNOTATIONS_DIR + '/instances_train2014.json'))"
   ]
  },
  {
   "cell_type": "code",
   "execution_count": 69,
   "metadata": {},
   "outputs": [],
   "source": [
    "coco_label_val_ann = pd.DataFrame(coco_label_val['annotations'])\n",
    "coco_label_train_ann = pd.DataFrame(coco_label_train['annotations'])\n",
    "label_df = pd.DataFrame(coco_label_val['categories'])\n",
    "label_df = label_df.rename(columns={'id': 'category_id'})"
   ]
  },
  {
   "cell_type": "code",
   "execution_count": 70,
   "metadata": {},
   "outputs": [],
   "source": [
    "coco_label_val_ann = coco_label_val_ann.merge(label_df, on='category_id')\n",
    "val_grouped_categories = coco_label_val_ann.groupby('image_id')['name'].unique().apply(list).reset_index()\n",
    "val_grouped_upercategories = coco_label_val_ann.groupby('image_id')['supercategory'].unique().reset_index()\n",
    "val_categories = val_grouped_categories.merge(val_grouped_upercategories, on='image_id')\n",
    "val_categories['set_source'] = 'val2014'"
   ]
  },
  {
   "cell_type": "code",
   "execution_count": 71,
   "metadata": {},
   "outputs": [],
   "source": [
    "coco_label_train_ann = coco_label_train_ann.merge(label_df, on='category_id')\n",
    "train_grouped_categories = coco_label_train_ann.groupby('image_id')['name'].unique().apply(list).reset_index()\n",
    "train_grouped_upercategories = coco_label_train_ann.groupby('image_id')['supercategory'].unique().reset_index()\n",
    "train_categories = train_grouped_categories.merge(train_grouped_upercategories, on='image_id')\n",
    "train_categories['set_source'] = 'train2014'\n"
   ]
  },
  {
   "cell_type": "code",
   "execution_count": 73,
   "metadata": {},
   "outputs": [],
   "source": [
    "overall_categories = pd.concat([val_categories, train_categories], ignore_index=True)"
   ]
  },
  {
   "cell_type": "code",
   "execution_count": 75,
   "metadata": {},
   "outputs": [],
   "source": [
    "overall_categories = overall_categories.rename(columns={'name': 'categories', 'supercategory': 'supercategories'})"
   ]
  },
  {
   "cell_type": "code",
   "execution_count": 78,
   "metadata": {},
   "outputs": [],
   "source": [
    "def create_img_index(s):\n",
    "    parts = s.split('_')\n",
    "    id_str = parts[2][:-4] \n",
    "    index = int(id_str)\n",
    "    return index\n",
    "\n",
    "coco_mmd['image_idx'] = coco_mmd['img_file'].apply(create_img_index)"
   ]
  },
  {
   "cell_type": "code",
   "execution_count": 81,
   "metadata": {},
   "outputs": [],
   "source": [
    "overall_categories = overall_categories.rename(columns={'image_id': 'image_idx'})"
   ]
  },
  {
   "cell_type": "code",
   "execution_count": 83,
   "metadata": {},
   "outputs": [],
   "source": [
    "coco_mmd = coco_mmd.merge(overall_categories, on=['image_idx', 'set_source'])"
   ]
  },
  {
   "cell_type": "code",
   "execution_count": 90,
   "metadata": {},
   "outputs": [],
   "source": [
    "coco_mmd.to_json(TARGET_DIR + '/coco_mmd.json', orient='records')"
   ]
  },
  {
   "cell_type": "code",
   "execution_count": 92,
   "metadata": {},
   "outputs": [
    {
     "data": {
      "text/plain": [
       "['hello , how are you tonight ?',\n",
       " 'i am tired . i played all day long .',\n",
       " 'what did you play ? i walked dogs for nine miles total .',\n",
       " 'i played with my toys in my room .',\n",
       " 'do you like dogs ? i have three .',\n",
       " 'yes . i like dogs . what kind are they ?',\n",
       " 'i have a lab and a mixed breed .',\n",
       " 'my best friend has a cat . she lives next door to me .',\n",
       " 'i like cats . do you play with her a lot ?',\n",
       " 'yes . we play with our dolls together . how old are you ?',\n",
       " 'i am 26 . do you need a babysitter ?',\n",
       " 'i am only four years old . i do not like my babysitter .',\n",
       " 'tell your parents . you should always like the one who is watching you .',\n",
       " 'she gets mad at me when i do not clean my room .']"
      ]
     },
     "execution_count": 92,
     "metadata": {},
     "output_type": "execute_result"
    }
   ],
   "source": [
    "coco_mmd['dialog'].iloc[0]"
   ]
  },
  {
   "cell_type": "code",
   "execution_count": 91,
   "metadata": {},
   "outputs": [
    {
     "data": {
      "text/html": [
       "<div>\n",
       "<style scoped>\n",
       "    .dataframe tbody tr th:only-of-type {\n",
       "        vertical-align: middle;\n",
       "    }\n",
       "\n",
       "    .dataframe tbody tr th {\n",
       "        vertical-align: top;\n",
       "    }\n",
       "\n",
       "    .dataframe thead th {\n",
       "        text-align: right;\n",
       "    }\n",
       "</style>\n",
       "<table border=\"1\" class=\"dataframe\">\n",
       "  <thead>\n",
       "    <tr style=\"text-align: right;\">\n",
       "      <th></th>\n",
       "      <th>dialog</th>\n",
       "      <th>score</th>\n",
       "      <th>dialog_dataset</th>\n",
       "      <th>dialog_file</th>\n",
       "      <th>img_dataset</th>\n",
       "      <th>img_file</th>\n",
       "      <th>set_source</th>\n",
       "      <th>image_id</th>\n",
       "      <th>image_idx</th>\n",
       "      <th>categories</th>\n",
       "      <th>supercategories</th>\n",
       "    </tr>\n",
       "  </thead>\n",
       "  <tbody>\n",
       "    <tr>\n",
       "      <th>0</th>\n",
       "      <td>[hello , how are you tonight ?, i am tired . i...</td>\n",
       "      <td>0.580191</td>\n",
       "      <td>persona</td>\n",
       "      <td>chat10005.txt</td>\n",
       "      <td>coco</td>\n",
       "      <td>COCO_val2014_000000283210.jpg</td>\n",
       "      <td>val2014</td>\n",
       "      <td>2000000283210</td>\n",
       "      <td>283210</td>\n",
       "      <td>[dog, chair]</td>\n",
       "      <td>[animal, furniture]</td>\n",
       "    </tr>\n",
       "    <tr>\n",
       "      <th>1</th>\n",
       "      <td>[good morning how old are you i am 34, i am mu...</td>\n",
       "      <td>0.556051</td>\n",
       "      <td>persona</td>\n",
       "      <td>chat10043.txt</td>\n",
       "      <td>coco</td>\n",
       "      <td>COCO_val2014_000000283210.jpg</td>\n",
       "      <td>val2014</td>\n",
       "      <td>2000000283210</td>\n",
       "      <td>283210</td>\n",
       "      <td>[dog, chair]</td>\n",
       "      <td>[animal, furniture]</td>\n",
       "    </tr>\n",
       "    <tr>\n",
       "      <th>2</th>\n",
       "      <td>[hello , how are you this evening ?, hello how...</td>\n",
       "      <td>0.553968</td>\n",
       "      <td>persona</td>\n",
       "      <td>chat10044.txt</td>\n",
       "      <td>coco</td>\n",
       "      <td>COCO_val2014_000000283210.jpg</td>\n",
       "      <td>val2014</td>\n",
       "      <td>2000000283210</td>\n",
       "      <td>283210</td>\n",
       "      <td>[dog, chair]</td>\n",
       "      <td>[animal, furniture]</td>\n",
       "    </tr>\n",
       "    <tr>\n",
       "      <th>3</th>\n",
       "      <td>[hello , how are you this morning ?, not good ...</td>\n",
       "      <td>0.575316</td>\n",
       "      <td>persona</td>\n",
       "      <td>chat10050.txt</td>\n",
       "      <td>coco</td>\n",
       "      <td>COCO_val2014_000000283210.jpg</td>\n",
       "      <td>val2014</td>\n",
       "      <td>2000000283210</td>\n",
       "      <td>283210</td>\n",
       "      <td>[dog, chair]</td>\n",
       "      <td>[animal, furniture]</td>\n",
       "    </tr>\n",
       "    <tr>\n",
       "      <th>4</th>\n",
       "      <td>[hey how are you today ?, i am great . you hav...</td>\n",
       "      <td>0.601362</td>\n",
       "      <td>persona</td>\n",
       "      <td>chat10061.txt</td>\n",
       "      <td>coco</td>\n",
       "      <td>COCO_val2014_000000283210.jpg</td>\n",
       "      <td>val2014</td>\n",
       "      <td>2000000283210</td>\n",
       "      <td>283210</td>\n",
       "      <td>[dog, chair]</td>\n",
       "      <td>[animal, furniture]</td>\n",
       "    </tr>\n",
       "    <tr>\n",
       "      <th>...</th>\n",
       "      <td>...</td>\n",
       "      <td>...</td>\n",
       "      <td>...</td>\n",
       "      <td>...</td>\n",
       "      <td>...</td>\n",
       "      <td>...</td>\n",
       "      <td>...</td>\n",
       "      <td>...</td>\n",
       "      <td>...</td>\n",
       "      <td>...</td>\n",
       "      <td>...</td>\n",
       "    </tr>\n",
       "    <tr>\n",
       "      <th>16975</th>\n",
       "      <td>[My minibar is completely empty ., Everything ...</td>\n",
       "      <td>0.585859</td>\n",
       "      <td>dailydialog</td>\n",
       "      <td>train9890.txt</td>\n",
       "      <td>coco</td>\n",
       "      <td>COCO_val2014_000000298290.jpg</td>\n",
       "      <td>val2014</td>\n",
       "      <td>2000000298290</td>\n",
       "      <td>298290</td>\n",
       "      <td>[refrigerator, bottle]</td>\n",
       "      <td>[appliance, kitchen]</td>\n",
       "    </tr>\n",
       "    <tr>\n",
       "      <th>16976</th>\n",
       "      <td>[Well , here is your breakfast !, Thanks so mu...</td>\n",
       "      <td>0.568436</td>\n",
       "      <td>dailydialog</td>\n",
       "      <td>train9914.txt</td>\n",
       "      <td>coco</td>\n",
       "      <td>COCO_val2014_000000397041.jpg</td>\n",
       "      <td>val2014</td>\n",
       "      <td>2000000397041</td>\n",
       "      <td>397041</td>\n",
       "      <td>[sandwich, dining table, fork, cup, spoon, per...</td>\n",
       "      <td>[food, furniture, kitchen, person]</td>\n",
       "    </tr>\n",
       "    <tr>\n",
       "      <th>16977</th>\n",
       "      <td>[Miss Liu , please come in ., What can I do fo...</td>\n",
       "      <td>0.562611</td>\n",
       "      <td>dailydialog</td>\n",
       "      <td>train9939.txt</td>\n",
       "      <td>coco</td>\n",
       "      <td>COCO_val2014_000000274398.jpg</td>\n",
       "      <td>val2014</td>\n",
       "      <td>2000000274398</td>\n",
       "      <td>274398</td>\n",
       "      <td>[knife]</td>\n",
       "      <td>[kitchen]</td>\n",
       "    </tr>\n",
       "    <tr>\n",
       "      <th>16978</th>\n",
       "      <td>[May , look , what's that in the cage ?, Don't...</td>\n",
       "      <td>0.556105</td>\n",
       "      <td>dailydialog</td>\n",
       "      <td>train995.txt</td>\n",
       "      <td>coco</td>\n",
       "      <td>COCO_val2014_000000439326.jpg</td>\n",
       "      <td>val2014</td>\n",
       "      <td>2000000439326</td>\n",
       "      <td>439326</td>\n",
       "      <td>[bear, cake]</td>\n",
       "      <td>[animal, food]</td>\n",
       "    </tr>\n",
       "    <tr>\n",
       "      <th>16979</th>\n",
       "      <td>[Are we going to have dinner tonight ?, What a...</td>\n",
       "      <td>0.559752</td>\n",
       "      <td>dailydialog</td>\n",
       "      <td>train9961.txt</td>\n",
       "      <td>coco</td>\n",
       "      <td>COCO_val2014_000000091416.jpg</td>\n",
       "      <td>val2014</td>\n",
       "      <td>2000000091416</td>\n",
       "      <td>91416</td>\n",
       "      <td>[person, knife, chair, spoon, oven]</td>\n",
       "      <td>[person, kitchen, furniture, appliance]</td>\n",
       "    </tr>\n",
       "  </tbody>\n",
       "</table>\n",
       "<p>16980 rows × 11 columns</p>\n",
       "</div>"
      ],
      "text/plain": [
       "                                                  dialog     score  \\\n",
       "0      [hello , how are you tonight ?, i am tired . i...  0.580191   \n",
       "1      [good morning how old are you i am 34, i am mu...  0.556051   \n",
       "2      [hello , how are you this evening ?, hello how...  0.553968   \n",
       "3      [hello , how are you this morning ?, not good ...  0.575316   \n",
       "4      [hey how are you today ?, i am great . you hav...  0.601362   \n",
       "...                                                  ...       ...   \n",
       "16975  [My minibar is completely empty ., Everything ...  0.585859   \n",
       "16976  [Well , here is your breakfast !, Thanks so mu...  0.568436   \n",
       "16977  [Miss Liu , please come in ., What can I do fo...  0.562611   \n",
       "16978  [May , look , what's that in the cage ?, Don't...  0.556105   \n",
       "16979  [Are we going to have dinner tonight ?, What a...  0.559752   \n",
       "\n",
       "      dialog_dataset    dialog_file img_dataset  \\\n",
       "0            persona  chat10005.txt        coco   \n",
       "1            persona  chat10043.txt        coco   \n",
       "2            persona  chat10044.txt        coco   \n",
       "3            persona  chat10050.txt        coco   \n",
       "4            persona  chat10061.txt        coco   \n",
       "...              ...            ...         ...   \n",
       "16975    dailydialog  train9890.txt        coco   \n",
       "16976    dailydialog  train9914.txt        coco   \n",
       "16977    dailydialog  train9939.txt        coco   \n",
       "16978    dailydialog   train995.txt        coco   \n",
       "16979    dailydialog  train9961.txt        coco   \n",
       "\n",
       "                            img_file set_source       image_id  image_idx  \\\n",
       "0      COCO_val2014_000000283210.jpg    val2014  2000000283210     283210   \n",
       "1      COCO_val2014_000000283210.jpg    val2014  2000000283210     283210   \n",
       "2      COCO_val2014_000000283210.jpg    val2014  2000000283210     283210   \n",
       "3      COCO_val2014_000000283210.jpg    val2014  2000000283210     283210   \n",
       "4      COCO_val2014_000000283210.jpg    val2014  2000000283210     283210   \n",
       "...                              ...        ...            ...        ...   \n",
       "16975  COCO_val2014_000000298290.jpg    val2014  2000000298290     298290   \n",
       "16976  COCO_val2014_000000397041.jpg    val2014  2000000397041     397041   \n",
       "16977  COCO_val2014_000000274398.jpg    val2014  2000000274398     274398   \n",
       "16978  COCO_val2014_000000439326.jpg    val2014  2000000439326     439326   \n",
       "16979  COCO_val2014_000000091416.jpg    val2014  2000000091416      91416   \n",
       "\n",
       "                                              categories  \\\n",
       "0                                           [dog, chair]   \n",
       "1                                           [dog, chair]   \n",
       "2                                           [dog, chair]   \n",
       "3                                           [dog, chair]   \n",
       "4                                           [dog, chair]   \n",
       "...                                                  ...   \n",
       "16975                             [refrigerator, bottle]   \n",
       "16976  [sandwich, dining table, fork, cup, spoon, per...   \n",
       "16977                                            [knife]   \n",
       "16978                                       [bear, cake]   \n",
       "16979                [person, knife, chair, spoon, oven]   \n",
       "\n",
       "                               supercategories  \n",
       "0                          [animal, furniture]  \n",
       "1                          [animal, furniture]  \n",
       "2                          [animal, furniture]  \n",
       "3                          [animal, furniture]  \n",
       "4                          [animal, furniture]  \n",
       "...                                        ...  \n",
       "16975                     [appliance, kitchen]  \n",
       "16976       [food, furniture, kitchen, person]  \n",
       "16977                                [kitchen]  \n",
       "16978                           [animal, food]  \n",
       "16979  [person, kitchen, furniture, appliance]  \n",
       "\n",
       "[16980 rows x 11 columns]"
      ]
     },
     "execution_count": 91,
     "metadata": {},
     "output_type": "execute_result"
    }
   ],
   "source": [
    "coco_mmd"
   ]
  },
  {
   "cell_type": "code",
   "execution_count": null,
   "metadata": {},
   "outputs": [],
   "source": []
  }
 ],
 "metadata": {
  "kernelspec": {
   "display_name": "facial-recgonition",
   "language": "python",
   "name": "python3"
  },
  "language_info": {
   "codemirror_mode": {
    "name": "ipython",
    "version": 3
   },
   "file_extension": ".py",
   "mimetype": "text/x-python",
   "name": "python",
   "nbconvert_exporter": "python",
   "pygments_lexer": "ipython3",
   "version": "3.12.1"
  }
 },
 "nbformat": 4,
 "nbformat_minor": 2
}
